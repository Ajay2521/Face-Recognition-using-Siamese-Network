{
 "cells": [
  {
   "cell_type": "code",
   "execution_count": 1,
   "id": "d5f39965",
   "metadata": {},
   "outputs": [],
   "source": [
    "# importing the libraries\n",
    "\n",
    "import cv2 # importing the opencv for detecting the face\n",
    "import numpy as np # for array manipulation\n"
   ]
  },
  {
   "cell_type": "code",
   "execution_count": 2,
   "id": "a10cd20a",
   "metadata": {},
   "outputs": [],
   "source": [
    "# importing classifiers\n",
    "# for classifing the face\n",
    "face_classifier =cv2.CascadeClassifier(cv2.data.haarcascades +'haarcascade_frontalface_default.xml')\n"
   ]
  },
  {
   "cell_type": "code",
   "execution_count": 3,
   "id": "69963e02",
   "metadata": {},
   "outputs": [
    {
     "data": {
      "text/plain": [
       "<CascadeClassifier 00000200F3BEEE70>"
      ]
     },
     "execution_count": 3,
     "metadata": {},
     "output_type": "execute_result"
    }
   ],
   "source": [
    "face_classifier"
   ]
  },
  {
   "cell_type": "code",
   "execution_count": 4,
   "id": "ecfa6fd2",
   "metadata": {},
   "outputs": [],
   "source": [
    "# reading_image\n",
    "# reading the image, it read the image and store the pixcel value of the image\n",
    "image = cv2.imread('faceDetect1.jpg')  \n",
    "\n",
    "# converting the color image to black and white image\n",
    "gray_image = cv2.cvtColor(image,cv2.COLOR_BGR2GRAY)"
   ]
  },
  {
   "cell_type": "code",
   "execution_count": 5,
   "id": "c6ef4101",
   "metadata": {},
   "outputs": [],
   "source": [
    "# detecting multiple faces in a image\n",
    "# detectMultiScale -  Detects objects of different sizes in the input image. The detected objects are returned as a list of rectangles\n",
    "faces = face_classifier.detectMultiScale(gray_image) "
   ]
  },
  {
   "cell_type": "code",
   "execution_count": 6,
   "id": "64421335",
   "metadata": {},
   "outputs": [],
   "source": [
    "\n",
    "for (x,y,w,h) in faces:\n",
    "    \n",
    "    # draw rectangle around face region    \n",
    "    cv2.rectangle(image,(x,y),(x+w,y+h),(0,255,0),2)\n",
    "    "
   ]
  },
  {
   "cell_type": "code",
   "execution_count": 7,
   "id": "0e4281bc",
   "metadata": {},
   "outputs": [
    {
     "data": {
      "text/plain": [
       "True"
      ]
     },
     "execution_count": 7,
     "metadata": {},
     "output_type": "execute_result"
    }
   ],
   "source": [
    "# saving the detected images\n",
    "cv2.imwrite('DetectedFaces.png',image)"
   ]
  },
  {
   "cell_type": "code",
   "execution_count": 8,
   "id": "f8151dca",
   "metadata": {},
   "outputs": [],
   "source": [
    "# displaying the detected images\n",
    "cv2.imshow('DetectedFaces',image)\n",
    "\n",
    "cv2.waitKey(0)\n",
    "\n",
    "# closing all the windows\n",
    "cv2.destroyAllWindows()"
   ]
  },
  {
   "cell_type": "code",
   "execution_count": null,
   "id": "dae91cd2",
   "metadata": {},
   "outputs": [],
   "source": [
    "\n"
   ]
  },
  {
   "cell_type": "code",
   "execution_count": null,
   "id": "4a35ce76",
   "metadata": {},
   "outputs": [],
   "source": []
  }
 ],
 "metadata": {
  "kernelspec": {
   "display_name": "Python 3",
   "language": "python",
   "name": "python3"
  },
  "language_info": {
   "codemirror_mode": {
    "name": "ipython",
    "version": 3
   },
   "file_extension": ".py",
   "mimetype": "text/x-python",
   "name": "python",
   "nbconvert_exporter": "python",
   "pygments_lexer": "ipython3",
   "version": "3.9.5"
  }
 },
 "nbformat": 4,
 "nbformat_minor": 5
}
