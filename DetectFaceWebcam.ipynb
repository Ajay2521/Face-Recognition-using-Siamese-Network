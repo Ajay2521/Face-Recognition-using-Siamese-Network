{
 "cells": [
  {
   "cell_type": "code",
   "execution_count": 1,
   "id": "3c276c24",
   "metadata": {},
   "outputs": [],
   "source": [
    "# importing the libraries\n",
    "\n",
    "import cv2 # importing the opencv for detecting the face\n",
    "import numpy as np # for array manipulation\n"
   ]
  },
  {
   "cell_type": "code",
   "execution_count": 2,
   "id": "4baa3c4f",
   "metadata": {},
   "outputs": [],
   "source": [
    "# importing classifiers for classifing the face\n",
    "face_classifier =cv2.CascadeClassifier(cv2.data.haarcascades +'haarcascade_frontalface_default.xml')\n"
   ]
  },
  {
   "cell_type": "code",
   "execution_count": 3,
   "id": "19ad7506",
   "metadata": {},
   "outputs": [
    {
     "data": {
      "text/plain": [
       "<CascadeClassifier 00000213969B1390>"
      ]
     },
     "execution_count": 3,
     "metadata": {},
     "output_type": "execute_result"
    }
   ],
   "source": [
    "face_classifier"
   ]
  },
  {
   "cell_type": "code",
   "execution_count": 6,
   "id": "546d179d",
   "metadata": {},
   "outputs": [],
   "source": [
    "def face_detect(frame):\n",
    "    \n",
    "    # grascaling passed image\n",
    "    if ret is True:\n",
    "        \n",
    "        # converting the color frames to gray frames\n",
    "        gray_frame = cv2.cvtColor(frame,cv2.COLOR_BGR2GRAY)\n",
    "        \n",
    "        # detecting faces \n",
    "        # detectMultiScale -  Detects objects of different sizes in the input image. The detected objects are returned as a list of rectangles\n",
    "        faces=face_classifier.detectMultiScale(gray_frame)\n",
    "\n",
    "        # drawing rectangle over face region\n",
    "        # x - x axis, y- y axis, w - width, h - height\n",
    "        for (x,y,w,h) in faces:\n",
    "            \n",
    "            # draw rectangle around face region     \n",
    "            cv2.rectangle(frame,(x,y),(x+w,y+h),(0,255,0),2)\n",
    "    \n",
    "    return frame"
   ]
  },
  {
   "cell_type": "code",
   "execution_count": null,
   "id": "b548dd84",
   "metadata": {},
   "outputs": [],
   "source": [
    "# starting up the webcam\n",
    "webcam = cv2.VideoCapture(0)\n",
    "\n",
    "while True:\n",
    "\n",
    "    # reading from web cam\n",
    "    \n",
    "    ret,frame=webcam.read()\n",
    "    \n",
    "    cv2.imshow('face_detection',face_detect(frame))\n",
    "\n",
    "    # if enter pressed then exit\n",
    "    if cv2.waitKey(1)==12:\n",
    "        break\n",
    "        \n",
    "# releasing camera\n",
    "webcam.release()\n",
    "\n",
    "# destroying_window\n",
    "cv2.destroyAllWindows()"
   ]
  },
  {
   "cell_type": "code",
   "execution_count": null,
   "id": "4749e436",
   "metadata": {},
   "outputs": [],
   "source": []
  }
 ],
 "metadata": {
  "kernelspec": {
   "display_name": "Python 3",
   "language": "python",
   "name": "python3"
  },
  "language_info": {
   "codemirror_mode": {
    "name": "ipython",
    "version": 3
   },
   "file_extension": ".py",
   "mimetype": "text/x-python",
   "name": "python",
   "nbconvert_exporter": "python",
   "pygments_lexer": "ipython3",
   "version": "3.9.5"
  }
 },
 "nbformat": 4,
 "nbformat_minor": 5
}
